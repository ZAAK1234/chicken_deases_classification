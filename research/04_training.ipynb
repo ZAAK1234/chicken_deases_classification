{
 "cells": [
  {
   "cell_type": "code",
   "id": "initial_id",
   "metadata": {
    "collapsed": true,
    "ExecuteTime": {
     "end_time": "2024-07-12T18:23:13.431026Z",
     "start_time": "2024-07-12T18:23:13.409279Z"
    }
   },
   "source": "import os",
   "outputs": [],
   "execution_count": 1
  },
  {
   "metadata": {
    "ExecuteTime": {
     "end_time": "2024-07-12T18:23:13.587758Z",
     "start_time": "2024-07-12T18:23:13.434462Z"
    }
   },
   "cell_type": "code",
   "source": "%pwd",
   "id": "4aa7566d8cfc9dd5",
   "outputs": [
    {
     "data": {
      "text/plain": [
       "'F:\\\\FAHIM\\\\Data Science\\\\y_ml_project\\\\p2\\\\research'"
      ]
     },
     "execution_count": 2,
     "metadata": {},
     "output_type": "execute_result"
    }
   ],
   "execution_count": 2
  },
  {
   "metadata": {
    "ExecuteTime": {
     "end_time": "2024-07-12T18:23:13.616813Z",
     "start_time": "2024-07-12T18:23:13.594529Z"
    }
   },
   "cell_type": "code",
   "source": "os.chdir(('../'))",
   "id": "2660d87f897292ef",
   "outputs": [],
   "execution_count": 3
  },
  {
   "metadata": {
    "ExecuteTime": {
     "end_time": "2024-07-12T18:23:13.652514Z",
     "start_time": "2024-07-12T18:23:13.616813Z"
    }
   },
   "cell_type": "code",
   "source": "pwd",
   "id": "ad05ab3c5ac888f2",
   "outputs": [
    {
     "data": {
      "text/plain": [
       "'F:\\\\FAHIM\\\\Data Science\\\\y_ml_project\\\\p2'"
      ]
     },
     "execution_count": 4,
     "metadata": {},
     "output_type": "execute_result"
    }
   ],
   "execution_count": 4
  },
  {
   "metadata": {
    "ExecuteTime": {
     "end_time": "2024-07-12T18:54:38.160877Z",
     "start_time": "2024-07-12T18:54:38.127092Z"
    }
   },
   "cell_type": "code",
   "source": [
    "from dataclasses import dataclass\n",
    "from pathlib import Path\n",
    "\n",
    "\n",
    "@dataclass(frozen=True)\n",
    "class TrainingConfig:\n",
    "    root_dir: Path\n",
    "    trained_model_path: Path\n",
    "    update_base_model_path: Path\n",
    "    training_data: Path\n",
    "    params_epochs: int\n",
    "    params_batch_size: int\n",
    "    params_is_augmentation: bool\n",
    "    params_image_size: list\n",
    "    \n",
    "@dataclass(frozen=True)\n",
    "class PrepareCallbackConfig:\n",
    "    root_dir: Path\n",
    "    tensorboard_log_dir: Path\n",
    "    checkpoint_model_filepath: Path"
   ],
   "id": "31fee9ed018c1ba7",
   "outputs": [],
   "execution_count": 46
  },
  {
   "metadata": {
    "ExecuteTime": {
     "end_time": "2024-07-12T18:54:38.419807Z",
     "start_time": "2024-07-12T18:54:38.409419Z"
    }
   },
   "cell_type": "code",
   "source": [
    "# configuration package\n",
    "from src.chicken_deases_classification.constant import *\n",
    "from src.chicken_deases_classification.utils.common import read_yaml,create_directories"
   ],
   "id": "f136654a0af35b5c",
   "outputs": [],
   "execution_count": 47
  },
  {
   "metadata": {
    "ExecuteTime": {
     "end_time": "2024-07-12T18:54:38.665032Z",
     "start_time": "2024-07-12T18:54:38.626108Z"
    }
   },
   "cell_type": "code",
   "source": [
    "class ConfigurationManager:\n",
    "    def __init__(self,\n",
    "                 config_filepath = CONFIG_FILE_PATH,\n",
    "                 params_filepath =PARAMS_FILE_PATH):\n",
    "        self.config =read_yaml(config_filepath)\n",
    "        self.params=read_yaml(params_filepath)\n",
    "        create_directories([self.config.artifacts_root])\n",
    "        \n",
    "        \n",
    "    def get_prepare_callbacks_config(self) -> PrepareCallbackConfig:\n",
    "        config = self.config.prepare_callbacks\n",
    "        model_ckpt_dir = os.path.dirname(config.checkpoint_model_filepath)\n",
    "        create_directories([\n",
    "            Path(model_ckpt_dir),\n",
    "            Path(config.tensorboard_log_dir)\n",
    "        ])\n",
    "\n",
    "        prepare_callback_config = PrepareCallbackConfig(\n",
    "            root_dir=Path(config.root_dir),\n",
    "            tensorboard_log_dir=Path(config.tensorboard_log_dir),\n",
    "            checkpoint_model_filepath=Path(config.checkpoint_model_filepath)\n",
    "        )\n",
    "\n",
    "        return prepare_callback_config\n",
    "    \n",
    "    def get_training_config(self) -> TrainingConfig:\n",
    "        training = self.config.training\n",
    "        prepare_base_model = self.config.prepare_base_model\n",
    "        params = self.params\n",
    "        training_data = os.path.join(self.config.data_ingestion.unzip_dir, \"Chicken-fecal-images\")\n",
    "        create_directories([\n",
    "            Path(training.root_dir)\n",
    "        ])\n",
    "\n",
    "        training_config = TrainingConfig(\n",
    "            root_dir=Path(training.root_dir),\n",
    "            trained_model_path=Path(training.trained_model_path),\n",
    "            update_base_model_path=Path(prepare_base_model.update_base_model_path),\n",
    "            training_data=Path(training_data),\n",
    "            params_epochs=params.EPOCHS,\n",
    "            params_batch_size=params.BATCH_SIZE,\n",
    "            params_is_augmentation=params.AUGMENTATION,\n",
    "            params_image_size=params.IMAGE_SIZE\n",
    "        )\n",
    "\n",
    "        return training_config"
   ],
   "id": "f718696719a74912",
   "outputs": [],
   "execution_count": 48
  },
  {
   "metadata": {
    "ExecuteTime": {
     "end_time": "2024-07-12T18:54:38.901155Z",
     "start_time": "2024-07-12T18:54:38.883530Z"
    }
   },
   "cell_type": "code",
   "source": [
    "# components\n",
    "import os\n",
    "import urllib.request as request\n",
    "from zipfile import ZipFile\n",
    "import tensorflow as tf\n",
    "import time"
   ],
   "id": "a0e5206deac26228",
   "outputs": [],
   "execution_count": 49
  },
  {
   "metadata": {
    "ExecuteTime": {
     "end_time": "2024-07-12T18:54:39.528138Z",
     "start_time": "2024-07-12T18:54:39.511631Z"
    }
   },
   "cell_type": "code",
   "source": [
    "class PrepareCallback:\n",
    "    def __init__(self,config :PrepareCallbackConfig):\n",
    "        self.config = config\n",
    "        \n",
    "    @property\n",
    "    def _create_tb_callback(self):\n",
    "        timestamp =time.strftime(\"%Y-%m-%d-%H-%M-%S\")\n",
    "        tb_running_log_dir = os.path.join(self.config.tensorboard_log_dir,f\"tb_log_at_{timestamp}\"\n",
    "                                          )\n",
    "        return tf.keras.callbacks.TensorBoard(log_dir=tb_running_log_dir)\n",
    "    \n",
    "    @property\n",
    "    def _create_ckpt_callback(self):\n",
    "        return tf.keras.callbacks.ModelCheckpoint(\n",
    "            \n",
    "            filepath=str(self.config.checkpoint_model_filepath),  \n",
    "            save_best_only=True\n",
    "        )\n",
    "   \n",
    "    def get_tb_ckpt_callback(self):\n",
    "        return [\n",
    "            self._create_tb_callback,\n",
    "            self._create_ckpt_callback\n",
    "        ]"
   ],
   "id": "b172ad95dcf1438a",
   "outputs": [],
   "execution_count": 50
  },
  {
   "metadata": {
    "ExecuteTime": {
     "end_time": "2024-07-12T18:54:54.132233Z",
     "start_time": "2024-07-12T18:54:54.106341Z"
    }
   },
   "cell_type": "code",
   "source": [
    "class Training:\n",
    "    def __init__(self, config: TrainingConfig):\n",
    "        self.config = config\n",
    "    \n",
    "    def get_base_model(self):\n",
    "        self.model = tf.keras.models.load_model(\n",
    "            self.config.update_base_model_path\n",
    "        )\n",
    "    \n",
    "    def train_valid_generator(self):\n",
    "\n",
    "        datagenerator_kwargs = dict(\n",
    "            rescale = 1./255,\n",
    "            validation_split=0.20\n",
    "        )\n",
    "\n",
    "        dataflow_kwargs = dict(\n",
    "            target_size=self.config.params_image_size[:-1],\n",
    "            batch_size=self.config.params_batch_size,\n",
    "            interpolation=\"bilinear\"\n",
    "        )\n",
    "\n",
    "        valid_datagenerator = tf.keras.preprocessing.image.ImageDataGenerator(\n",
    "            **datagenerator_kwargs\n",
    "        )\n",
    "\n",
    "        self.valid_generator = valid_datagenerator.flow_from_directory(\n",
    "            directory=self.config.training_data,\n",
    "            subset=\"validation\",\n",
    "            shuffle=False,\n",
    "            **dataflow_kwargs\n",
    "        )\n",
    "\n",
    "        if self.config.params_is_augmentation:\n",
    "            train_datagenerator = tf.keras.preprocessing.image.ImageDataGenerator(\n",
    "                rotation_range=40,\n",
    "                horizontal_flip=True,\n",
    "                width_shift_range=0.2,\n",
    "                height_shift_range=0.2,\n",
    "                shear_range=0.2,\n",
    "                zoom_range=0.2,\n",
    "                **datagenerator_kwargs\n",
    "            )\n",
    "        else:\n",
    "            train_datagenerator = valid_datagenerator\n",
    "\n",
    "        self.train_generator = train_datagenerator.flow_from_directory(\n",
    "            directory=self.config.training_data,\n",
    "            subset=\"training\",\n",
    "            shuffle=True,\n",
    "            **dataflow_kwargs\n",
    "        )\n",
    "\n",
    "    @staticmethod\n",
    "    def save_model(path: Path, model: tf.keras.Model):\n",
    "        model.save(path)\n",
    "\n",
    "\n",
    "    def train(self, callback_list: list):\n",
    "        self.steps_per_epoch = self.train_generator.samples // self.train_generator.batch_size\n",
    "        self.validation_steps = self.valid_generator.samples // self.valid_generator.batch_size\n",
    "\n",
    "        self.model.fit(\n",
    "            self.train_generator,\n",
    "            epochs=self.config.params_epochs,\n",
    "            steps_per_epoch=self.steps_per_epoch,\n",
    "            validation_steps=self.validation_steps,\n",
    "            validation_data=self.valid_generator,\n",
    "            callbacks=callback_list\n",
    "        )\n",
    "\n",
    "        self.save_model(\n",
    "            path=self.config.trained_model_path,\n",
    "            model=self.model\n",
    "        )"
   ],
   "id": "176b187c9c108a86",
   "outputs": [],
   "execution_count": 52
  },
  {
   "metadata": {
    "ExecuteTime": {
     "end_time": "2024-07-12T18:57:39.860150Z",
     "start_time": "2024-07-12T18:54:54.692262Z"
    }
   },
   "cell_type": "code",
   "source": [
    "try:\n",
    "    config = ConfigurationManager()\n",
    "    prepare_callbacks_config = config.get_prepare_callbacks_config()\n",
    "    prepare_callbacks = PrepareCallback(config=prepare_callbacks_config)\n",
    "    callback_list = prepare_callbacks.get_tb_ckpt_callback()\n",
    "\n",
    "    training_config = config.get_training_config()\n",
    "    training = Training(config=training_config)\n",
    "    training.get_base_model()\n",
    "    training.train_valid_generator()\n",
    "    training.train(\n",
    "        callback_list=callback_list\n",
    "    )\n",
    "    \n",
    "except Exception as e:\n",
    "    raise e"
   ],
   "id": "f488eea78386af85",
   "outputs": [
    {
     "name": "stdout",
     "output_type": "stream",
     "text": [
      "[2024-07-13 00:24:54,707: INFO: common: yaml file: config\\config.yaml loaded successfully]\n",
      "[2024-07-13 00:24:54,707: INFO: common: yaml file: params.yaml loaded successfully]\n",
      "[2024-07-13 00:24:54,723: INFO: common: created directory at: artifacts]\n",
      "[2024-07-13 00:24:54,723: INFO: common: created directory at: artifacts\\prepare_callback\\callbacks_dir]\n",
      "[2024-07-13 00:24:54,723: INFO: common: created directory at: artifacts\\prepare_callback\\tensorboard_log_dir]\n",
      "[2024-07-13 00:24:54,723: INFO: common: created directory at: artifacts\\training]\n",
      "[2024-07-13 00:24:59,169: WARNING: module_wrapper: From C:\\Users\\Maaz Computer\\anaconda3\\ana\\Lib\\site-packages\\keras\\src\\backend.py:1398: The name tf.executing_eagerly_outside_functions is deprecated. Please use tf.compat.v1.executing_eagerly_outside_functions instead.\n",
      "]\n",
      "[2024-07-13 00:24:59,786: WARNING: module_wrapper: From C:\\Users\\Maaz Computer\\anaconda3\\ana\\Lib\\site-packages\\keras\\src\\layers\\pooling\\max_pooling2d.py:161: The name tf.nn.max_pool is deprecated. Please use tf.nn.max_pool2d instead.\n",
      "]\n",
      "Found 78 images belonging to 2 classes.\n",
      "Found 312 images belonging to 2 classes.\n",
      "[2024-07-13 00:25:10,084: WARNING: module_wrapper: From C:\\Users\\Maaz Computer\\anaconda3\\ana\\Lib\\site-packages\\keras\\src\\utils\\tf_utils.py:492: The name tf.ragged.RaggedTensorValue is deprecated. Please use tf.compat.v1.ragged.RaggedTensorValue instead.\n",
      "]\n",
      "19/19 [==============================] - ETA: 0s - loss: 11.8848 - accuracy: 0.5372"
     ]
    },
    {
     "name": "stderr",
     "output_type": "stream",
     "text": [
      "C:\\Users\\Maaz Computer\\anaconda3\\ana\\Lib\\site-packages\\keras\\src\\engine\\training.py:3103: UserWarning: You are saving your model as an HDF5 file via `model.save()`. This file format is considered legacy. We recommend using instead the native Keras format, e.g. `model.save('my_model.keras')`.\n",
      "  saving_api.save_model(\n"
     ]
    },
    {
     "name": "stdout",
     "output_type": "stream",
     "text": [
      "19/19 [==============================] - 149s 8s/step - loss: 11.8848 - accuracy: 0.5372 - val_loss: 24.6356 - val_accuracy: 0.6094\n"
     ]
    }
   ],
   "execution_count": 53
  },
  {
   "metadata": {},
   "cell_type": "code",
   "outputs": [],
   "execution_count": null,
   "source": "",
   "id": "27e1a3d43c5ad63a"
  }
 ],
 "metadata": {
  "kernelspec": {
   "display_name": "Python 3",
   "language": "python",
   "name": "python3"
  },
  "language_info": {
   "codemirror_mode": {
    "name": "ipython",
    "version": 2
   },
   "file_extension": ".py",
   "mimetype": "text/x-python",
   "name": "python",
   "nbconvert_exporter": "python",
   "pygments_lexer": "ipython2",
   "version": "2.7.6"
  }
 },
 "nbformat": 4,
 "nbformat_minor": 5
}
