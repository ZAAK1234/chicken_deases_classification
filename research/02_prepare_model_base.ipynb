{
 "cells": [
  {
   "cell_type": "code",
   "id": "initial_id",
   "metadata": {
    "collapsed": true,
    "ExecuteTime": {
     "end_time": "2024-07-12T14:20:34.073658Z",
     "start_time": "2024-07-12T14:20:34.058228Z"
    }
   },
   "source": "import os\n",
   "outputs": [],
   "execution_count": 1
  },
  {
   "metadata": {
    "ExecuteTime": {
     "end_time": "2024-07-12T14:20:38.162878Z",
     "start_time": "2024-07-12T14:20:38.137194Z"
    }
   },
   "cell_type": "code",
   "source": "%pwd",
   "id": "1609fc6419b9c3cd",
   "outputs": [
    {
     "data": {
      "text/plain": [
       "'F:\\\\FAHIM\\\\Data Science\\\\y_ml_project\\\\p2\\\\research'"
      ]
     },
     "execution_count": 2,
     "metadata": {},
     "output_type": "execute_result"
    }
   ],
   "execution_count": 2
  },
  {
   "metadata": {
    "ExecuteTime": {
     "end_time": "2024-07-12T14:21:12.355744Z",
     "start_time": "2024-07-12T14:21:12.350757Z"
    }
   },
   "cell_type": "code",
   "source": "os.chdir('../')",
   "id": "935977a21c0504a8",
   "outputs": [],
   "execution_count": 3
  },
  {
   "metadata": {
    "ExecuteTime": {
     "end_time": "2024-07-12T14:21:17.639285Z",
     "start_time": "2024-07-12T14:21:17.634278Z"
    }
   },
   "cell_type": "code",
   "source": "pwd",
   "id": "daf2bb1cfe0c7ddc",
   "outputs": [
    {
     "data": {
      "text/plain": [
       "'F:\\\\FAHIM\\\\Data Science\\\\y_ml_project\\\\p2'"
      ]
     },
     "execution_count": 4,
     "metadata": {},
     "output_type": "execute_result"
    }
   ],
   "execution_count": 4
  },
  {
   "metadata": {
    "ExecuteTime": {
     "end_time": "2024-07-12T16:19:38.131842Z",
     "start_time": "2024-07-12T16:19:38.107801Z"
    }
   },
   "cell_type": "code",
   "source": [
    "from dataclasses import dataclass\n",
    "from pathlib import Path\n",
    "\n",
    "@dataclass(frozen=True)\n",
    "class PrepareModelBaseConfig:\n",
    "    root_dir: Path\n",
    "    base_model_path: Path\n",
    "    update_base_model_path: Path\n",
    "    params_image_size: list\n",
    "    params_learning_rate: float\n",
    "    params_include_top: bool\n",
    "    params_weights: str\n",
    "    params_classes: int\n"
   ],
   "id": "a8ae4fac1321fc90",
   "outputs": [],
   "execution_count": 28
  },
  {
   "metadata": {
    "ExecuteTime": {
     "end_time": "2024-07-12T16:19:38.344599Z",
     "start_time": "2024-07-12T16:19:38.336868Z"
    }
   },
   "cell_type": "code",
   "source": [
    "from src.chicken_deases_classification.constant import *\n",
    "from src.chicken_deases_classification.utils.common import read_yaml,create_directories"
   ],
   "id": "18f9920ab80f89ad",
   "outputs": [],
   "execution_count": 29
  },
  {
   "metadata": {
    "ExecuteTime": {
     "end_time": "2024-07-12T16:19:38.631022Z",
     "start_time": "2024-07-12T16:19:38.611905Z"
    }
   },
   "cell_type": "code",
   "source": [
    "class ConfigurationManager:\n",
    "    def __init__(self,\n",
    "                 config_filepath = CONFIG_FILE_PATH,\n",
    "                 params_filepath =PARAMS_FILE_PATH):\n",
    "        self.config =read_yaml(config_filepath)\n",
    "        self.params=read_yaml(params_filepath)\n",
    "        create_directories([self.config.artifacts_root])\n",
    "        \n",
    "    def get_prepare_base_model_config(self) -> PrepareModelBaseConfig:\n",
    "        config = self.config.prepare_base_model\n",
    "        create_directories([config.root_dir])\n",
    "        prepare_base_model_config = PrepareModelBaseConfig(\n",
    "            root_dir = Path(config.root_dir),\n",
    "            base_model_path=Path(config.base_model_path),\n",
    "            update_base_model_path=Path(config.update_base_model_path),\n",
    "            params_image_size=self.params.IMAGE_SIZE,\n",
    "            params_learning_rate=self.params.LEARNING_RATE,\n",
    "            params_include_top=self.params.INCLUDE_TOP,\n",
    "            params_weights=self.params.WEIGHTS,\n",
    "            params_classes=self.params.CLASSES)\n",
    "        return prepare_base_model_config\n",
    "        "
   ],
   "id": "e5295897a3b65690",
   "outputs": [],
   "execution_count": 30
  },
  {
   "metadata": {
    "ExecuteTime": {
     "end_time": "2024-07-12T16:19:38.734296Z",
     "start_time": "2024-07-12T16:19:38.728764Z"
    }
   },
   "cell_type": "code",
   "source": [
    "# Components\n",
    "import os\n",
    "import urllib.request as request\n",
    "from zipfile import ZipFile\n",
    "import tensorflow as tf"
   ],
   "id": "5d09049997e335e4",
   "outputs": [],
   "execution_count": 31
  },
  {
   "metadata": {
    "ExecuteTime": {
     "end_time": "2024-07-12T16:25:29.912040Z",
     "start_time": "2024-07-12T16:25:29.889342Z"
    }
   },
   "cell_type": "code",
   "source": [
    "class PrepareBaseModel:\n",
    "    def __init__(self,config :PrepareModelBaseConfig):\n",
    "        self.config = config\n",
    "    def get_base_model(self):\n",
    "        self.model=tf.keras.applications.vgg16.VGG16(\n",
    "            input_shape =self.config.params_image_size,\n",
    "        weights=self.config.params_weights,\n",
    "        include_top=self.config.params_include_top)\n",
    "        self.save_model(path=self.config.base_model_path, model=self.model)\n",
    "        \n",
    "    @staticmethod\n",
    "    def _prepare_full_model(model,classes,freeze_all,freeze_till,learning_rate):\n",
    "        if freeze_all:\n",
    "            for layer in model.layers:\n",
    "                model.trainable = False\n",
    "        elif (freeze_till is not None) and (freeze_all > 0):\n",
    "            for layer in model.layers[:freeze_all]:\n",
    "                model.trainable = False\n",
    "        flatten_in =tf.keras.layers.Flatten()(model.output)\n",
    "        predictions =tf.keras.layers.Dense(units=classes,activation='softmax')(flatten_in)\n",
    "        full_model = tf.keras.Model(inputs=model.input,outputs=predictions)\n",
    "        \n",
    "        full_model.compile(\n",
    "            optimizer=tf.keras.optimizers.SGD(learning_rate=learning_rate),\n",
    "            loss=tf.keras.losses.CategoricalCrossentropy(),metrics=['accuracy'])\n",
    "        \n",
    "        \n",
    "        full_model.summary()\n",
    "        return full_model\n",
    "    \n",
    "    def update_base_model(self):\n",
    "        self.full_model = self._prepare_full_model(\n",
    "            model=self.model,\n",
    "            classes=self.config.params_classes,\n",
    "            freeze_all=True,\n",
    "            freeze_till=None,\n",
    "            learning_rate=self.config.params_learning_rate\n",
    "        )\n",
    "\n",
    "        self.save_model(path=self.config.update_base_model_path, model=self.full_model)\n",
    "        \n",
    "    @staticmethod\n",
    "    def save_model(path : Path, model : tf.keras.Model):\n",
    "        model.save(path)\n",
    "        "
   ],
   "id": "a0496f1f1f631e41",
   "outputs": [],
   "execution_count": 37
  },
  {
   "metadata": {
    "ExecuteTime": {
     "end_time": "2024-07-12T16:25:36.388882Z",
     "start_time": "2024-07-12T16:25:30.699785Z"
    }
   },
   "cell_type": "code",
   "source": [
    "# Pipeline\n",
    "try:\n",
    "    config=ConfigurationManager()\n",
    "    prepare_base_model_config=config.get_prepare_base_model_config()\n",
    "    prepare_base_model=PrepareBaseModel(config=prepare_base_model_config)\n",
    "    prepare_base_model.get_base_model()\n",
    "    prepare_base_model.update_base_model()\n",
    "except Exception as e:\n",
    "    raise e"
   ],
   "id": "364b8d88f21f7ce4",
   "outputs": [
    {
     "name": "stdout",
     "output_type": "stream",
     "text": [
      "[2024-07-12 21:55:30,715: INFO: common: yaml file: config\\config.yaml loaded successfully]\n",
      "[2024-07-12 21:55:30,715: INFO: common: yaml file: params.yaml loaded successfully]\n",
      "[2024-07-12 21:55:30,715: INFO: common: created directory at: artifacts]\n",
      "[2024-07-12 21:55:30,715: INFO: common: created directory at: artifacts/prepare_base_model]\n",
      "[2024-07-12 21:55:31,941: WARNING: module_wrapper: From C:\\Users\\Maaz Computer\\anaconda3\\ana\\Lib\\site-packages\\keras\\src\\backend.py:1398: The name tf.executing_eagerly_outside_functions is deprecated. Please use tf.compat.v1.executing_eagerly_outside_functions instead.\n",
      "]\n",
      "[2024-07-12 21:55:33,510: WARNING: module_wrapper: From C:\\Users\\Maaz Computer\\anaconda3\\ana\\Lib\\site-packages\\keras\\src\\layers\\pooling\\max_pooling2d.py:161: The name tf.nn.max_pool is deprecated. Please use tf.nn.max_pool2d instead.\n",
      "]\n",
      "[2024-07-12 21:55:35,242: WARNING: saving_utils: Compiled the loaded model, but the compiled metrics have yet to be built. `model.compile_metrics` will be empty until you train or evaluate the model.]\n"
     ]
    },
    {
     "name": "stderr",
     "output_type": "stream",
     "text": [
      "C:\\Users\\Maaz Computer\\anaconda3\\ana\\Lib\\site-packages\\keras\\src\\engine\\training.py:3103: UserWarning: You are saving your model as an HDF5 file via `model.save()`. This file format is considered legacy. We recommend using instead the native Keras format, e.g. `model.save('my_model.keras')`.\n",
      "  saving_api.save_model(\n"
     ]
    },
    {
     "name": "stdout",
     "output_type": "stream",
     "text": [
      "Model: \"model\"\n",
      "_________________________________________________________________\n",
      " Layer (type)                Output Shape              Param #   \n",
      "=================================================================\n",
      " input_1 (InputLayer)        [(None, 224, 224, 3)]     0         \n",
      "                                                                 \n",
      " block1_conv1 (Conv2D)       (None, 224, 224, 64)      1792      \n",
      "                                                                 \n",
      " block1_conv2 (Conv2D)       (None, 224, 224, 64)      36928     \n",
      "                                                                 \n",
      " block1_pool (MaxPooling2D)  (None, 112, 112, 64)      0         \n",
      "                                                                 \n",
      " block2_conv1 (Conv2D)       (None, 112, 112, 128)     73856     \n",
      "                                                                 \n",
      " block2_conv2 (Conv2D)       (None, 112, 112, 128)     147584    \n",
      "                                                                 \n",
      " block2_pool (MaxPooling2D)  (None, 56, 56, 128)       0         \n",
      "                                                                 \n",
      " block3_conv1 (Conv2D)       (None, 56, 56, 256)       295168    \n",
      "                                                                 \n",
      " block3_conv2 (Conv2D)       (None, 56, 56, 256)       590080    \n",
      "                                                                 \n",
      " block3_conv3 (Conv2D)       (None, 56, 56, 256)       590080    \n",
      "                                                                 \n",
      " block3_pool (MaxPooling2D)  (None, 28, 28, 256)       0         \n",
      "                                                                 \n",
      " block4_conv1 (Conv2D)       (None, 28, 28, 512)       1180160   \n",
      "                                                                 \n",
      " block4_conv2 (Conv2D)       (None, 28, 28, 512)       2359808   \n",
      "                                                                 \n",
      " block4_conv3 (Conv2D)       (None, 28, 28, 512)       2359808   \n",
      "                                                                 \n",
      " block4_pool (MaxPooling2D)  (None, 14, 14, 512)       0         \n",
      "                                                                 \n",
      " block5_conv1 (Conv2D)       (None, 14, 14, 512)       2359808   \n",
      "                                                                 \n",
      " block5_conv2 (Conv2D)       (None, 14, 14, 512)       2359808   \n",
      "                                                                 \n",
      " block5_conv3 (Conv2D)       (None, 14, 14, 512)       2359808   \n",
      "                                                                 \n",
      " block5_pool (MaxPooling2D)  (None, 7, 7, 512)         0         \n",
      "                                                                 \n",
      " flatten (Flatten)           (None, 25088)             0         \n",
      "                                                                 \n",
      " dense (Dense)               (None, 2)                 50178     \n",
      "                                                                 \n",
      "=================================================================\n",
      "Total params: 14764866 (56.32 MB)\n",
      "Trainable params: 50178 (196.01 KB)\n",
      "Non-trainable params: 14714688 (56.13 MB)\n",
      "_________________________________________________________________\n"
     ]
    }
   ],
   "execution_count": 38
  },
  {
   "metadata": {
    "ExecuteTime": {
     "end_time": "2024-07-12T15:32:52.773014Z",
     "start_time": "2024-07-12T15:32:52.767147Z"
    }
   },
   "cell_type": "code",
   "source": "",
   "id": "5231d28cf991f58c",
   "outputs": [],
   "execution_count": 21
  },
  {
   "metadata": {},
   "cell_type": "code",
   "outputs": [],
   "execution_count": null,
   "source": "",
   "id": "72c3dc9e31441c07"
  }
 ],
 "metadata": {
  "kernelspec": {
   "display_name": "Python 3",
   "language": "python",
   "name": "python3"
  },
  "language_info": {
   "codemirror_mode": {
    "name": "ipython",
    "version": 2
   },
   "file_extension": ".py",
   "mimetype": "text/x-python",
   "name": "python",
   "nbconvert_exporter": "python",
   "pygments_lexer": "ipython2",
   "version": "2.7.6"
  }
 },
 "nbformat": 4,
 "nbformat_minor": 5
}
