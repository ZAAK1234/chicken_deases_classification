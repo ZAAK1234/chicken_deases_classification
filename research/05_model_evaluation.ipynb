{
 "cells": [
  {
   "cell_type": "code",
   "id": "initial_id",
   "metadata": {
    "collapsed": true,
    "ExecuteTime": {
     "end_time": "2024-07-14T05:52:05.377082Z",
     "start_time": "2024-07-14T05:52:05.370Z"
    }
   },
   "source": "import os",
   "outputs": [],
   "execution_count": 2
  },
  {
   "metadata": {
    "ExecuteTime": {
     "end_time": "2024-07-14T05:49:55.692036Z",
     "start_time": "2024-07-14T05:49:55.681553Z"
    }
   },
   "cell_type": "code",
   "source": "%pwd",
   "id": "c713c52292a5b8b2",
   "outputs": [
    {
     "data": {
      "text/plain": [
       "'F:\\\\FAHIM\\\\Data Science\\\\DataTrained\\\\Deep Learning\\\\NLP\\\\Sentiment_Analysis_Hands_on_Notebook_(2)'"
      ]
     },
     "execution_count": 2,
     "metadata": {},
     "output_type": "execute_result"
    }
   ],
   "execution_count": 2
  },
  {
   "metadata": {
    "ExecuteTime": {
     "end_time": "2024-07-14T05:52:08.333890Z",
     "start_time": "2024-07-14T05:52:08.326285Z"
    }
   },
   "cell_type": "code",
   "source": "os.chdir('F:\\FAHIM\\Data Science\\y_ml_project\\p2')",
   "id": "e7416b2c4a609d79",
   "outputs": [],
   "execution_count": 3
  },
  {
   "metadata": {
    "ExecuteTime": {
     "end_time": "2024-07-14T05:52:11.072653Z",
     "start_time": "2024-07-14T05:52:11.048844Z"
    }
   },
   "cell_type": "code",
   "source": "pwd",
   "id": "f89784bb405af654",
   "outputs": [
    {
     "data": {
      "text/plain": [
       "'F:\\\\FAHIM\\\\Data Science\\\\y_ml_project\\\\p2'"
      ]
     },
     "execution_count": 4,
     "metadata": {},
     "output_type": "execute_result"
    }
   ],
   "execution_count": 4
  },
  {
   "metadata": {
    "ExecuteTime": {
     "end_time": "2024-07-14T06:22:00.142699Z",
     "start_time": "2024-07-14T06:21:28.178883Z"
    }
   },
   "cell_type": "code",
   "source": "import tensorflow as tf",
   "id": "98575dd6be71deed",
   "outputs": [
    {
     "name": "stdout",
     "output_type": "stream",
     "text": [
      "WARNING:tensorflow:From C:\\Users\\Maaz Computer\\anaconda3\\ana\\Lib\\site-packages\\keras\\src\\losses.py:2976: The name tf.losses.sparse_softmax_cross_entropy is deprecated. Please use tf.compat.v1.losses.sparse_softmax_cross_entropy instead.\n",
      "\n"
     ]
    }
   ],
   "execution_count": 5
  },
  {
   "metadata": {
    "ExecuteTime": {
     "end_time": "2024-07-14T06:22:17.161241Z",
     "start_time": "2024-07-14T06:22:13.655858Z"
    }
   },
   "cell_type": "code",
   "source": "model=tf.keras.models.load_model('artifacts/training/model.h5')",
   "id": "a00f43692ba4fd10",
   "outputs": [
    {
     "name": "stdout",
     "output_type": "stream",
     "text": [
      "WARNING:tensorflow:From C:\\Users\\Maaz Computer\\anaconda3\\ana\\Lib\\site-packages\\keras\\src\\backend.py:1398: The name tf.executing_eagerly_outside_functions is deprecated. Please use tf.compat.v1.executing_eagerly_outside_functions instead.\n",
      "\n",
      "WARNING:tensorflow:From C:\\Users\\Maaz Computer\\anaconda3\\ana\\Lib\\site-packages\\keras\\src\\layers\\pooling\\max_pooling2d.py:161: The name tf.nn.max_pool is deprecated. Please use tf.nn.max_pool2d instead.\n",
      "\n"
     ]
    }
   ],
   "execution_count": 6
  },
  {
   "metadata": {
    "ExecuteTime": {
     "end_time": "2024-07-14T07:15:26.882025Z",
     "start_time": "2024-07-14T07:15:26.387593Z"
    }
   },
   "cell_type": "code",
   "source": [
    "from dataclasses import dataclass\n",
    "from pathlib import Path\n",
    "\n",
    "\n",
    "@dataclass(frozen=True)\n",
    "class EvaluationConfig:\n",
    "    path_of_model: Path\n",
    "    training_data: Path\n",
    "    all_params: dict\n",
    "    params_image_size: list\n",
    "    params_batch_size: int"
   ],
   "id": "26bd07d63c9a343",
   "outputs": [],
   "execution_count": 7
  },
  {
   "metadata": {
    "ExecuteTime": {
     "end_time": "2024-07-14T07:17:27.855369Z",
     "start_time": "2024-07-14T07:17:25.373402Z"
    }
   },
   "cell_type": "code",
   "source": [
    "from src.chicken_deases_classification.constant import *\n",
    "from src.chicken_deases_classification.utils.common import read_yaml,create_directories"
   ],
   "id": "c926ebcaa9bbd0a3",
   "outputs": [],
   "execution_count": 8
  },
  {
   "metadata": {
    "ExecuteTime": {
     "end_time": "2024-07-14T08:50:38.174340Z",
     "start_time": "2024-07-14T08:50:37.937403Z"
    }
   },
   "cell_type": "code",
   "source": [
    "class ConfigurationManager:\n",
    "    def __init__(self,\n",
    "                 config_filepath = CONFIG_FILE_PATH,\n",
    "                 params_filepath =PARAMS_FILE_PATH):\n",
    "        self.config =read_yaml(config_filepath)\n",
    "        self.params=read_yaml(params_filepath)\n",
    "        create_directories([self.config.artifacts_root])\n",
    "    \n",
    "    def get_validation_config(self) -> EvaluationConfig:\n",
    "        eval_config = EvaluationConfig(\n",
    "            path_of_model= Path(\"artifacts/training/model.h5\"),\n",
    "            training_data=Path(\"artifacts/data_ingestion/Chicken-fecal-images\"),\n",
    "            all_params=self.params,\n",
    "            params_image_size=self.params.IMAGE_SIZE,\n",
    "            params_batch_size=self.params.BATCH_SIZE\n",
    "        )\n",
    "        return eval_config"
   ],
   "id": "84fd02f981ee63cb",
   "outputs": [],
   "execution_count": 9
  },
  {
   "metadata": {
    "ExecuteTime": {
     "end_time": "2024-07-14T08:56:53.592447Z",
     "start_time": "2024-07-14T08:56:53.567873Z"
    }
   },
   "cell_type": "code",
   "source": [
    "from urllib.parse import urlparse\n",
    "from src.chicken_deases_classification.utils.common import save_json"
   ],
   "id": "d00417c7c8c38e75",
   "outputs": [],
   "execution_count": 13
  },
  {
   "metadata": {
    "ExecuteTime": {
     "end_time": "2024-07-14T09:00:51.731393Z",
     "start_time": "2024-07-14T09:00:51.716464Z"
    }
   },
   "cell_type": "code",
   "source": [
    "class Evaluation:\n",
    "    def __init__(self, config: EvaluationConfig):\n",
    "        self.config = config\n",
    "\n",
    "    \n",
    "    def _valid_generator(self):\n",
    "\n",
    "        datagenerator_kwargs = dict(\n",
    "            rescale = 1./255,\n",
    "            validation_split=0.30\n",
    "        )\n",
    "\n",
    "        dataflow_kwargs = dict(\n",
    "            target_size=self.config.params_image_size[:-1],\n",
    "            batch_size=self.config.params_batch_size,\n",
    "            interpolation=\"bilinear\"\n",
    "        )\n",
    "\n",
    "        valid_datagenerator = tf.keras.preprocessing.image.ImageDataGenerator(\n",
    "            **datagenerator_kwargs\n",
    "        )\n",
    "\n",
    "        self.valid_generator = valid_datagenerator.flow_from_directory(\n",
    "            directory=self.config.training_data,\n",
    "            subset=\"validation\",\n",
    "            shuffle=False,\n",
    "            **dataflow_kwargs\n",
    "        )\n",
    "\n",
    "    \n",
    "    @staticmethod\n",
    "    def load_model(path: Path) -> tf.keras.Model:\n",
    "        return tf.keras.models.load_model(path)\n",
    "    \n",
    "\n",
    "    def evaluation(self):\n",
    "        self.model = self.load_model(self.config.path_of_model)\n",
    "        self._valid_generator()\n",
    "        self.score = model.evaluate(self.valid_generator)\n",
    "\n",
    "    \n",
    "    def save_score(self):\n",
    "        scores = {\"loss\": self.score[0], \"accuracy\": self.score[1]}\n",
    "        save_json(path_to_json=Path(\"scores.json\"), data=scores)"
   ],
   "id": "566daed20024f5dd",
   "outputs": [],
   "execution_count": 18
  },
  {
   "metadata": {
    "ExecuteTime": {
     "end_time": "2024-07-14T09:01:18.642874Z",
     "start_time": "2024-07-14T09:00:52.034307Z"
    }
   },
   "cell_type": "code",
   "source": [
    "try:\n",
    "    config = ConfigurationManager()\n",
    "    val_config = config.get_validation_config()\n",
    "    evaluation = Evaluation(val_config)\n",
    "    evaluation.evaluation()\n",
    "    evaluation.save_score()\n",
    "\n",
    "except Exception as e:\n",
    "   raise e"
   ],
   "id": "6d023b4ddc3aa81f",
   "outputs": [
    {
     "name": "stdout",
     "output_type": "stream",
     "text": [
      "[2024-07-14 14:30:52,049: INFO: common: yaml file: config\\config.yaml loaded successfully]\n",
      "[2024-07-14 14:30:52,049: INFO: common: yaml file: params.yaml loaded successfully]\n",
      "[2024-07-14 14:30:52,049: INFO: common: created directory at: artifacts]\n",
      "Found 116 images belonging to 2 classes.\n",
      "8/8 [==============================] - 25s 3s/step - loss: 2.4757 - accuracy: 0.8017\n",
      "[2024-07-14 14:31:18,635: INFO: common: json file saved: scores.json]\n"
     ]
    }
   ],
   "execution_count": 19
  },
  {
   "metadata": {},
   "cell_type": "code",
   "outputs": [],
   "execution_count": null,
   "source": "",
   "id": "68a7b50e73f9795d"
  }
 ],
 "metadata": {
  "kernelspec": {
   "display_name": "Python 3",
   "language": "python",
   "name": "python3"
  },
  "language_info": {
   "codemirror_mode": {
    "name": "ipython",
    "version": 2
   },
   "file_extension": ".py",
   "mimetype": "text/x-python",
   "name": "python",
   "nbconvert_exporter": "python",
   "pygments_lexer": "ipython2",
   "version": "2.7.6"
  }
 },
 "nbformat": 4,
 "nbformat_minor": 5
}
