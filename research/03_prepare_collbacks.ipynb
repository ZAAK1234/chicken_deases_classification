{
 "cells": [
  {
   "cell_type": "code",
   "id": "initial_id",
   "metadata": {
    "collapsed": true,
    "ExecuteTime": {
     "end_time": "2024-07-12T17:04:36.018877Z",
     "start_time": "2024-07-12T17:04:35.991406Z"
    }
   },
   "source": "import os",
   "outputs": [],
   "execution_count": 1
  },
  {
   "metadata": {
    "ExecuteTime": {
     "end_time": "2024-07-12T17:04:36.108368Z",
     "start_time": "2024-07-12T17:04:36.021861Z"
    }
   },
   "cell_type": "code",
   "source": "%pwd",
   "id": "7c2e4235a62ada5c",
   "outputs": [
    {
     "data": {
      "text/plain": [
       "'F:\\\\FAHIM\\\\Data Science\\\\y_ml_project\\\\p2\\\\research'"
      ]
     },
     "execution_count": 2,
     "metadata": {},
     "output_type": "execute_result"
    }
   ],
   "execution_count": 2
  },
  {
   "metadata": {
    "ExecuteTime": {
     "end_time": "2024-07-12T17:04:46.617599Z",
     "start_time": "2024-07-12T17:04:46.606708Z"
    }
   },
   "cell_type": "code",
   "source": "os.chdir('../')",
   "id": "8f3024787028b2d1",
   "outputs": [],
   "execution_count": 3
  },
  {
   "metadata": {
    "ExecuteTime": {
     "end_time": "2024-07-12T17:04:49.338944Z",
     "start_time": "2024-07-12T17:04:49.322520Z"
    }
   },
   "cell_type": "code",
   "source": "pwd",
   "id": "e2071320671924b1",
   "outputs": [
    {
     "data": {
      "text/plain": [
       "'F:\\\\FAHIM\\\\Data Science\\\\y_ml_project\\\\p2'"
      ]
     },
     "execution_count": 4,
     "metadata": {},
     "output_type": "execute_result"
    }
   ],
   "execution_count": 4
  },
  {
   "metadata": {
    "ExecuteTime": {
     "end_time": "2024-07-12T17:09:01.949387Z",
     "start_time": "2024-07-12T17:09:01.937443Z"
    }
   },
   "cell_type": "code",
   "source": [
    "#entity\n",
    "from dataclasses import dataclass\n",
    "from pathlib import Path\n",
    "\n",
    "@dataclass(frozen=True)\n",
    "class PrepareCallbackConfig:\n",
    "    root_dir: Path\n",
    "    tensorboard_root_log_dir: Path\n",
    "    checkpoint_model_filepath: Path"
   ],
   "id": "3a44b850f92cb27a",
   "outputs": [],
   "execution_count": 5
  },
  {
   "metadata": {
    "ExecuteTime": {
     "end_time": "2024-07-12T17:09:39.848673Z",
     "start_time": "2024-07-12T17:09:37.047513Z"
    }
   },
   "cell_type": "code",
   "source": [
    "# configuration package\n",
    "from src.chicken_deases_classification.constant import *\n",
    "from src.chicken_deases_classification.utils.common import read_yaml,create_directories"
   ],
   "id": "4da8d1b898600d10",
   "outputs": [],
   "execution_count": 6
  },
  {
   "metadata": {
    "ExecuteTime": {
     "end_time": "2024-07-12T18:07:00.561490Z",
     "start_time": "2024-07-12T18:07:00.532260Z"
    }
   },
   "cell_type": "code",
   "source": [
    "class ConfigurationManager:\n",
    "    def __init__(self,\n",
    "                 config_filepath = CONFIG_FILE_PATH,\n",
    "                 params_filepath =PARAMS_FILE_PATH):\n",
    "        self.config =read_yaml(config_filepath)\n",
    "        self.params=read_yaml(params_filepath)\n",
    "        create_directories([self.config.artifacts_root])\n",
    "        \n",
    "        \n",
    "    def get_prepare_callbacks_config(self) -> PrepareCallbackConfig:\n",
    "        config = self.config.prepare_callbacks\n",
    "        model_ckpt_dir = os.path.dirname(config.checkpoint_model_filepath)\n",
    "        create_directories([\n",
    "            Path(model_ckpt_dir),\n",
    "            Path(config.tensorboard_root_log_dir)\n",
    "        ])\n",
    "\n",
    "        prepare_callback_config = PrepareCallbackConfig(\n",
    "            root_dir=Path(config.root_dir),\n",
    "            tensorboard_root_log_dir=Path(config.tensorboard_root_log_dir),\n",
    "            checkpoint_model_filepath=Path(config.checkpoint_model_filepath)\n",
    "        )\n",
    "\n",
    "        return prepare_callback_config"
   ],
   "id": "e3e1dc7413d09dc3",
   "outputs": [],
   "execution_count": 35
  },
  {
   "metadata": {
    "ExecuteTime": {
     "end_time": "2024-07-12T17:38:00.412682Z",
     "start_time": "2024-07-12T17:38:00.407980Z"
    }
   },
   "cell_type": "code",
   "source": [
    "# components\n",
    "import os\n",
    "import urllib.request as request\n",
    "from zipfile import ZipFile\n",
    "import tensorflow as tf\n",
    "import time"
   ],
   "id": "8c311d547166e974",
   "outputs": [],
   "execution_count": 30
  },
  {
   "metadata": {
    "ExecuteTime": {
     "end_time": "2024-07-12T18:11:12.634151Z",
     "start_time": "2024-07-12T18:11:12.611673Z"
    }
   },
   "cell_type": "code",
   "source": [
    "class PrepareCallback:\n",
    "    def __init__(self,config :PrepareCallbackConfig):\n",
    "        self.config = config\n",
    "        \n",
    "    @property\n",
    "    def _create_tb_callback(self):\n",
    "        timestamp =time.strftime(\"%Y-%m-%d-%H-%M-%S\")\n",
    "        tb_running_log_dir = os.path.join(self.config.tensorboard_root_log_dir,f\"tb_log_at_{timestamp}\"\n",
    "                                          )\n",
    "        return tf.keras.callbacks.TensorBoard(log_dir=tb_running_log_dir)\n",
    "    \n",
    "    @property\n",
    "    def _create_ckpt_callback(self):\n",
    "        return tf.keras.callbacks.ModelCheckpoint(\n",
    "            \n",
    "            filepath=str(self.config.checkpoint_model_filepath),  \n",
    "            save_best_only=True\n",
    "        )\n",
    "    def get_tb_ckpt_callback(self):\n",
    "        return [\n",
    "            self._create_tb_callback,\n",
    "            self._create_ckpt_callback\n",
    "        ]"
   ],
   "id": "6e97c34fd50cab2b",
   "outputs": [],
   "execution_count": 39
  },
  {
   "metadata": {
    "ExecuteTime": {
     "end_time": "2024-07-12T18:11:22.789431Z",
     "start_time": "2024-07-12T18:11:22.748945Z"
    }
   },
   "cell_type": "code",
   "source": [
    "# pipeline\n",
    "try:\n",
    "    config = ConfigurationManager()\n",
    "    prepare_callbacks_config = config.get_prepare_callbacks_config()\n",
    "    prepare_callbacks = PrepareCallback(config=prepare_callbacks_config)\n",
    "    callback_list = prepare_callbacks.get_tb_ckpt_callback()\n",
    "except Exception as e:\n",
    "    raise e"
   ],
   "id": "80c2f4ab56aeb40b",
   "outputs": [
    {
     "name": "stdout",
     "output_type": "stream",
     "text": [
      "[2024-07-12 23:41:22,764: INFO: common: yaml file: config\\config.yaml loaded successfully]\n",
      "[2024-07-12 23:41:22,764: INFO: common: yaml file: params.yaml loaded successfully]\n",
      "[2024-07-12 23:41:22,764: INFO: common: created directory at: artifacts]\n",
      "[2024-07-12 23:41:22,780: INFO: common: created directory at: artifacts\\prepare_callback\\callbacks_dir]\n",
      "[2024-07-12 23:41:22,780: INFO: common: created directory at: artifacts\\prepare_callback\\tensorboard_log_dir]\n"
     ]
    }
   ],
   "execution_count": 40
  },
  {
   "metadata": {},
   "cell_type": "code",
   "outputs": [],
   "execution_count": null,
   "source": "",
   "id": "6b2484f09831d1c0"
  }
 ],
 "metadata": {
  "kernelspec": {
   "display_name": "Python 3",
   "language": "python",
   "name": "python3"
  },
  "language_info": {
   "codemirror_mode": {
    "name": "ipython",
    "version": 2
   },
   "file_extension": ".py",
   "mimetype": "text/x-python",
   "name": "python",
   "nbconvert_exporter": "python",
   "pygments_lexer": "ipython2",
   "version": "2.7.6"
  }
 },
 "nbformat": 4,
 "nbformat_minor": 5
}
