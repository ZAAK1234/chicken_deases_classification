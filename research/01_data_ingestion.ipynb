{
 "cells": [
  {
   "cell_type": "code",
   "execution_count": 82,
   "id": "35bc6119248a342a",
   "metadata": {
    "ExecuteTime": {
     "end_time": "2024-07-12T03:14:40.275159Z",
     "start_time": "2024-07-12T03:14:40.265700Z"
    }
   },
   "outputs": [],
   "source": [
    "#!pip install python-box"
   ]
  },
  {
   "cell_type": "code",
   "execution_count": 83,
   "id": "6b6810aa87acf6ec",
   "metadata": {
    "ExecuteTime": {
     "end_time": "2024-07-12T03:14:40.306711Z",
     "start_time": "2024-07-12T03:14:40.275159Z"
    }
   },
   "outputs": [],
   "source": [
    "#!pip install ensure"
   ]
  },
  {
   "cell_type": "code",
   "id": "initial_id",
   "metadata": {
    "ExecuteTime": {
     "end_time": "2024-07-12T12:48:42.416459Z",
     "start_time": "2024-07-12T12:48:42.404387Z"
    }
   },
   "source": [
    "import os\n",
    "import sys"
   ],
   "outputs": [],
   "execution_count": 152
  },
  {
   "cell_type": "code",
   "id": "ef107e680bbe34d1",
   "metadata": {
    "ExecuteTime": {
     "end_time": "2024-07-12T12:48:01.126619Z",
     "start_time": "2024-07-12T12:48:01.119691Z"
    }
   },
   "source": [
    "%pwd"
   ],
   "outputs": [
    {
     "data": {
      "text/plain": [
       "'F:\\\\FAHIM\\\\Data Science\\\\y_ml_project\\\\p2'"
      ]
     },
     "execution_count": 143,
     "metadata": {},
     "output_type": "execute_result"
    }
   ],
   "execution_count": 143
  },
  {
   "cell_type": "code",
   "id": "56b91ffc16772e5f",
   "metadata": {
    "ExecuteTime": {
     "end_time": "2024-07-12T12:48:49.812050Z",
     "start_time": "2024-07-12T12:48:49.795917Z"
    }
   },
   "source": [
    "pwd"
   ],
   "outputs": [
    {
     "data": {
      "text/plain": [
       "'F:\\\\FAHIM\\\\Data Science\\\\y_ml_project\\\\p2'"
      ]
     },
     "execution_count": 153,
     "metadata": {},
     "output_type": "execute_result"
    }
   ],
   "execution_count": 153
  },
  {
   "cell_type": "code",
   "id": "196d0e0fed5c9399",
   "metadata": {
    "ExecuteTime": {
     "end_time": "2024-07-12T12:48:50.486170Z",
     "start_time": "2024-07-12T12:48:50.467372Z"
    }
   },
   "source": [
    "from dataclasses import dataclass\n",
    "from pathlib import Path\n",
    "\n",
    "@dataclass(frozen=True)\n",
    "class DataIngestionConfig:\n",
    "    root_dir: Path\n",
    "    source_URL: str\n",
    "    local_data_file: Path\n",
    "    unzip_dir: Path"
   ],
   "outputs": [],
   "execution_count": 154
  },
  {
   "cell_type": "code",
   "id": "c8f752f4d635d749",
   "metadata": {
    "ExecuteTime": {
     "end_time": "2024-07-12T12:48:50.696718Z",
     "start_time": "2024-07-12T12:48:50.684889Z"
    }
   },
   "source": [
    "from src.chicken_deases_classification.constant import *\n",
    "from src.chicken_deases_classification.utils.common import read_yaml,create_directories\n"
   ],
   "outputs": [],
   "execution_count": 155
  },
  {
   "cell_type": "code",
   "id": "b08541b07c609fb6",
   "metadata": {
    "ExecuteTime": {
     "end_time": "2024-07-12T12:48:51.024361Z",
     "start_time": "2024-07-12T12:48:51.005937Z"
    }
   },
   "source": [
    "class ConfigurationManager:\n",
    "    def __init__(\n",
    "        self,\n",
    "        config_filepath = 'config/config.yaml',\n",
    "        params_filepath = PARAMS_FILE_PATH):\n",
    "\n",
    "        self.config = read_yaml(config_filepath)\n",
    "        self.params = read_yaml(params_filepath)\n",
    "\n",
    "        create_directories([self.config.artifacts_root])\n",
    "\n",
    "\n",
    "    \n",
    "    def get_data_ingestion_config(self) -> DataIngestionConfig:\n",
    "        config = self.config.data_ingestion\n",
    "\n",
    "        create_directories([config.root_dir])\n",
    "\n",
    "        data_ingestion_config = DataIngestionConfig(\n",
    "            root_dir=config.root_dir,\n",
    "            source_URL=config.source_URL,\n",
    "            local_data_file=config.local_data_file,\n",
    "            unzip_dir=config.unzip_dir \n",
    "        )\n",
    "\n",
    "        return data_ingestion_config\n",
    "      "
   ],
   "outputs": [],
   "execution_count": 156
  },
  {
   "cell_type": "code",
   "id": "73916e1912b95c66",
   "metadata": {
    "ExecuteTime": {
     "end_time": "2024-07-12T12:48:51.224727Z",
     "start_time": "2024-07-12T12:48:51.215273Z"
    }
   },
   "source": [
    "import os\n",
    "import requests\n",
    "import zipfile\n",
    "from src.chicken_deases_classification.utils.common import logger\n",
    "from src.chicken_deases_classification.utils.common import get_size\n"
   ],
   "outputs": [],
   "execution_count": 157
  },
  {
   "cell_type": "code",
   "id": "e69411cd82bbced1",
   "metadata": {
    "ExecuteTime": {
     "end_time": "2024-07-12T12:59:07.212259Z",
     "start_time": "2024-07-12T12:59:07.189478Z"
    }
   },
   "source": [
    "class DataIngestion:\n",
    "    def __init__(self, config: DataIngestionConfig):\n",
    "        self.config = config\n",
    "\n",
    "\n",
    "    \n",
    "    def download_file(self):\n",
    "        if not os.path.exists(self.config.local_data_file):\n",
    "            response = requests.get(self.config.source_URL)\n",
    "            response.raise_for_status()  # Raise an exception if download fails\n",
    "\n",
    "            # Save the downloaded content\n",
    "            with open('data.zip', 'wb') as f:\n",
    "                 f.write(response.content)\n",
    "            \n",
    "            logger.info(f\"{self.config.source_URL} download! with following info: \\n{self.config.local_data_file}\")\n",
    "            \n",
    "        else:\n",
    "            logger.info(f\"File already exists of size: {get_size(Path(self.config.local_data_file))}\")  \n",
    "\n",
    "\n",
    "\n",
    "    \n",
    "    def extract_zip_file(self):\n",
    "        \"\"\"\n",
    "        zip_file_path: str\n",
    "        Extracts the zip file into the data directory\n",
    "        Function returns None\n",
    "        \"\"\"\n",
    "        unzip_path = self.config.unzip_dir\n",
    "        os.makedirs(unzip_path, exist_ok=True)\n",
    "        with zipfile.ZipFile(output_file, 'r') as zip_ref:\n",
    "            zip_ref.extractall(unzip_path)\n",
    "        #logger.info(f'Download file size is {os.path.getsize(self.config.local_data_file)/1024:.2f} kb')"
   ],
   "outputs": [],
   "execution_count": 177
  },
  {
   "cell_type": "code",
   "id": "9dadb38b65064840",
   "metadata": {
    "ExecuteTime": {
     "end_time": "2024-07-12T12:59:08.034347Z",
     "start_time": "2024-07-12T12:59:08.011630Z"
    }
   },
   "source": [
    "from datetime import datetime\n",
    "def error_message_detail(error,error_detail: sys):\n",
    "    _,_,exc_tb=error_detail.exc_info()\n",
    "    filename=exc_tb.tb_frame.f_code.co_filename\n",
    "    error_message='Error Occured in python script name[{0}] line number [{1}] error message [{2}] at [{3}]'.format(\n",
    "        filename,exc_tb.tb_lineno,str(error),datetime.now()\n",
    "    )\n",
    "    return error_message\n",
    "\n",
    "class CustomException(Exception):\n",
    "    def __init__(self,error_message,error_detail: sys):\n",
    "        super().__init__(error_message)\n",
    "        self.error_message=error_message_detail(error_message,error_detail=error_detail)\n",
    "\n",
    "    def __str__(self):\n",
    "        return self.error_message"
   ],
   "outputs": [],
   "execution_count": 178
  },
  {
   "cell_type": "code",
   "id": "1be5d33a3724df58",
   "metadata": {
    "ExecuteTime": {
     "end_time": "2024-07-12T12:59:24.017323Z",
     "start_time": "2024-07-12T12:59:08.459378Z"
    }
   },
   "source": [
    "try:\n",
    "    config = ConfigurationManager()\n",
    "    data_ingestion_config = config.get_data_ingestion_config()\n",
    "    data_ingestion = DataIngestion(config=data_ingestion_config)\n",
    "    data_ingestion.download_file()\n",
    "    data_ingestion.extract_zip_file()\n",
    "except CustomException as e:\n",
    "    raise error_message_detail(e,sys)"
   ],
   "outputs": [
    {
     "name": "stdout",
     "output_type": "stream",
     "text": [
      "[2024-07-12 18:29:08,459: INFO: common: yaml file: config/config.yaml loaded successfully]\n",
      "[2024-07-12 18:29:08,474: INFO: common: yaml file: params.yaml loaded successfully]\n",
      "[2024-07-12 18:29:08,474: INFO: common: created directory at: artifacts]\n",
      "[2024-07-12 18:29:08,474: INFO: common: created directory at: artifacts/data_ingestion]\n",
      "[2024-07-12 18:29:23,710: INFO: 302170528: https://raw.githubusercontent.com/ZAAK1234/chicken_deases_classification/main/Chicken-fecal-images.zip download! with following info: \n",
      "artifacts/data_ingestion/data.zip]\n"
     ]
    }
   ],
   "execution_count": 179
  },
  {
   "cell_type": "code",
   "execution_count": 23,
   "id": "85e9b48f0575daea",
   "metadata": {
    "ExecuteTime": {
     "end_time": "2024-07-12T03:14:40.689733Z",
     "start_time": "2024-07-12T03:14:40.689733Z"
    }
   },
   "outputs": [],
   "source": [
    "import requests\n",
    "import zipfile\n",
    "import os\n",
    "\n",
    "url = \"https://raw.githubusercontent.com/entbappy/Branching-tutorial/master/Chicken-fecal-images.zip\"\n",
    "output_file = \"output.zip\"\n",
    "\n",
    "# Download the file using requests\n",
    "response = requests.get(url)\n",
    "response.raise_for_status()  # Raise an exception if download fails\n",
    "\n",
    "# Save the downloaded content\n",
    "with open(output_file, 'wb') as f:\n",
    "    f.write(response.content)\n",
    "\n",
    "# Extract the zip file\n",
    "unzip_path = 'F:/FAHIM/Data Science/y_ml_project/p2/artifacts/data_ingestion'\n",
    "os.makedirs(unzip_path, exist_ok=True)\n",
    "with zipfile.ZipFile(output_file, 'r') as zip_ref:\n",
    "    zip_ref.extractall(unzip_path)"
   ]
  },
  {
   "cell_type": "code",
   "execution_count": 37,
   "id": "b1caeed89d9e7644",
   "metadata": {},
   "outputs": [],
   "source": [
    "filename, headers = request.urlretrieve(\n",
    "                url ='https://raw.githubusercontent.com/entbappy/Branching-tutorial/master/Chicken-fecal-images.zip' ,\n",
    "                filename = 'artifacts/data_ingestion/data.zip'\n",
    "            )"
   ]
  },
  {
   "cell_type": "code",
   "execution_count": 39,
   "id": "4fb431b7",
   "metadata": {},
   "outputs": [
    {
     "data": {
      "text/plain": [
       "<http.client.HTTPMessage at 0x26730f5b010>"
      ]
     },
     "execution_count": 39,
     "metadata": {},
     "output_type": "execute_result"
    }
   ],
   "source": [
    "headers"
   ]
  },
  {
   "cell_type": "code",
   "execution_count": 36,
   "id": "02d4b3e0",
   "metadata": {},
   "outputs": [
    {
     "ename": "NameError",
     "evalue": "name 'self' is not defined",
     "output_type": "error",
     "traceback": [
      "\u001B[1;31m---------------------------------------------------------------------------\u001B[0m",
      "\u001B[1;31mNameError\u001B[0m                                 Traceback (most recent call last)",
      "Cell \u001B[1;32mIn[36], line 1\u001B[0m\n\u001B[1;32m----> 1\u001B[0m response \u001B[38;5;241m=\u001B[39m requests\u001B[38;5;241m.\u001B[39mget(\u001B[38;5;28mself\u001B[39m\u001B[38;5;241m.\u001B[39mconfig\u001B[38;5;241m.\u001B[39msource_URL)\n",
      "\u001B[1;31mNameError\u001B[0m: name 'self' is not defined"
     ]
    }
   ],
   "source": [
    "response = requests.get(self.config.source_URL)"
   ]
  },
  {
   "cell_type": "code",
   "execution_count": null,
   "id": "9f00da2b",
   "metadata": {},
   "outputs": [],
   "source": []
  }
 ],
 "metadata": {
  "kernelspec": {
   "display_name": "Python 3 (ipykernel)",
   "language": "python",
   "name": "python3"
  },
  "language_info": {
   "codemirror_mode": {
    "name": "ipython",
    "version": 3
   },
   "file_extension": ".py",
   "mimetype": "text/x-python",
   "name": "python",
   "nbconvert_exporter": "python",
   "pygments_lexer": "ipython3",
   "version": "3.11.5"
  }
 },
 "nbformat": 4,
 "nbformat_minor": 5
}
